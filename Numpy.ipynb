{
  "cells": [
    {
      "cell_type": "markdown",
      "metadata": {
        "id": "view-in-github",
        "colab_type": "text"
      },
      "source": [
        "<a href=\"https://colab.research.google.com/github/robertosgpontes/tec_prog_1/blob/main/Numpy.ipynb\" target=\"_parent\"><img src=\"https://colab.research.google.com/assets/colab-badge.svg\" alt=\"Open In Colab\"/></a>"
      ]
    },
    {
      "cell_type": "markdown",
      "metadata": {
        "id": "ck4mz0HzAleV"
      },
      "source": [
        "<img src=\"https://upload.wikimedia.org/wikipedia/commons/thumb/3/31/NumPy_logo_2020.svg/2560px-NumPy_logo_2020.svg.png\" alt=\"Alternative text\" />"
      ]
    },
    {
      "cell_type": "markdown",
      "metadata": {
        "id": "eGVnLJMDAleX"
      },
      "source": [
        "A biblioteca **NumPy** _(Numerical Python)_ proporciona uma forma eficiente de armazenagem e processamento de conjuntos de dados, e é utilizada como base para a construção da biblioteca Pandas, que estudaremos a seguir.\n",
        "\n",
        "O diferencial do Numpy é sua velocidade e eficiência, o que faz com que ela seja amplamente utilizada para computação científica e análise de dados. \n",
        "\n",
        "A velocidade e eficiência é possível graças à estrutura chamada **numpy array**, que é um forma eficiente de guardar e manipular matrizes, que serve como base para as tabelas que iremos utilizar."
      ]
    },
    {
      "cell_type": "markdown",
      "metadata": {
        "id": "RvWTYJ8QAlea"
      },
      "source": [
        "[Guia rápido de uso da biblioteca](https://numpy.org/devdocs/user/quickstart.html)\n",
        "\n",
        "[Guia para iniciantes](https://numpy.org/devdocs/user/absolute_beginners.html)"
      ]
    },
    {
      "cell_type": "markdown",
      "metadata": {
        "id": "wVMzQ3HKAled"
      },
      "source": [
        "___"
      ]
    },
    {
      "cell_type": "markdown",
      "metadata": {
        "id": "Wgn4cJ7IAlee"
      },
      "source": [
        "Qual a diferença entre um numpy array e uma lista?"
      ]
    },
    {
      "cell_type": "markdown",
      "metadata": {
        "id": "ksLymSzkAleg"
      },
      "source": [
        "**numpy array:** armazena somente um tipo de dado (homogêneo), ocupando menos memória. É pensado para maior eficiência de cálculo.\n",
        "\n",
        "**lista:** permite armazenar dados de vários tipos."
      ]
    },
    {
      "cell_type": "code",
      "execution_count": null,
      "metadata": {
        "id": "jMaym1x2Alei",
        "outputId": "0aada7c0-c63f-457f-e58d-20e7683666cc"
      },
      "outputs": [
        {
          "data": {
            "text/plain": [
              "['a', 2, 2.4, True, [1, 3], {'a:1'}]"
            ]
          },
          "metadata": {},
          "output_type": "display_data"
        }
      ],
      "source": [
        "lista = [\"a\", 2, 2.4, True, [1,3], {\"a:1\"}]\n",
        "lista"
      ]
    },
    {
      "cell_type": "code",
      "execution_count": null,
      "metadata": {
        "id": "kCQkatJBAlel",
        "outputId": "aa0a7009-03cb-4913-e72c-712f8e678b8a"
      },
      "outputs": [
        {
          "data": {
            "text/plain": [
              "['a', 2, 2.4, True, [1, 3], {'a:1'}, 'Olá', 'Olá']"
            ]
          },
          "metadata": {},
          "output_type": "display_data"
        }
      ],
      "source": [
        "lista.append(\"Olá\")\n",
        "lista"
      ]
    },
    {
      "cell_type": "markdown",
      "metadata": {
        "id": "Avy6UMuuAlen"
      },
      "source": [
        "Importando o numpy"
      ]
    },
    {
      "cell_type": "code",
      "execution_count": null,
      "metadata": {
        "id": "4zSMWRnqAleo"
      },
      "outputs": [],
      "source": []
    },
    {
      "cell_type": "markdown",
      "metadata": {
        "id": "up_efyA7Aleo"
      },
      "source": [
        "### Arrays em numpy"
      ]
    },
    {
      "cell_type": "markdown",
      "metadata": {
        "id": "h4MGlQTLAlep"
      },
      "source": [
        "<img src = \"https://numpy.org/devdocs/_images/np_array.png\" />"
      ]
    },
    {
      "cell_type": "markdown",
      "metadata": {
        "id": "YEofh7adAleq"
      },
      "source": [
        "#### Criando arrays\n",
        "\n",
        "Pra criar arrays a partir de uma lista, basta utilizar a função **np.array()**"
      ]
    },
    {
      "cell_type": "code",
      "execution_count": null,
      "metadata": {
        "id": "_XnrmT2yAler"
      },
      "outputs": [],
      "source": []
    },
    {
      "cell_type": "markdown",
      "metadata": {
        "id": "m-a2OjRLAler"
      },
      "source": [
        "#### Atributos básicos pra um ndarray"
      ]
    },
    {
      "cell_type": "markdown",
      "metadata": {
        "id": "Qep8sX_FAles"
      },
      "source": [
        "O formato dele"
      ]
    },
    {
      "cell_type": "code",
      "execution_count": null,
      "metadata": {
        "id": "5t69lkgIAlet"
      },
      "outputs": [],
      "source": []
    },
    {
      "cell_type": "markdown",
      "metadata": {
        "id": "f7dH5x2AAlet"
      },
      "source": [
        "Quantas dimensões ele tem"
      ]
    },
    {
      "cell_type": "code",
      "execution_count": null,
      "metadata": {
        "id": "NlyQd6_dAleu"
      },
      "outputs": [],
      "source": []
    },
    {
      "cell_type": "markdown",
      "metadata": {
        "id": "GeEc62_KAleu"
      },
      "source": [
        "Obter o tipo dos elementos do array (número, letra, ...)"
      ]
    },
    {
      "cell_type": "code",
      "execution_count": null,
      "metadata": {
        "id": "-_wyr4cnAlev"
      },
      "outputs": [],
      "source": []
    },
    {
      "cell_type": "markdown",
      "metadata": {
        "id": "2rgnYfvCAlev"
      },
      "source": [
        "#### Tipo de dados em um ndarray"
      ]
    },
    {
      "cell_type": "markdown",
      "metadata": {
        "id": "vdi4sDdLAlew"
      },
      "source": [
        "O dtype de um array do numpy pode ser controlado na hora que a gente cria."
      ]
    },
    {
      "cell_type": "code",
      "execution_count": null,
      "metadata": {
        "id": "VFZv4N_TAlew"
      },
      "outputs": [],
      "source": []
    },
    {
      "cell_type": "markdown",
      "metadata": {
        "id": "siv0V07eAlex"
      },
      "source": [
        "Mas quando a gente não define o tipo de dados?"
      ]
    },
    {
      "cell_type": "code",
      "execution_count": null,
      "metadata": {
        "id": "pzqIPzwwAlex"
      },
      "outputs": [],
      "source": []
    },
    {
      "cell_type": "markdown",
      "metadata": {
        "id": "W8_BwV8fAley"
      },
      "source": [
        "#### Formas de inicializar Arrays"
      ]
    },
    {
      "cell_type": "markdown",
      "metadata": {
        "id": "sWaPnlWHAlez"
      },
      "source": [
        "[numpy zeros](https://numpy.org/doc/stable/reference/generated/numpy.zeros.html)"
      ]
    },
    {
      "cell_type": "code",
      "execution_count": null,
      "metadata": {
        "id": "IyfOWOHdAle0"
      },
      "outputs": [],
      "source": []
    },
    {
      "cell_type": "markdown",
      "metadata": {
        "id": "aEK-5BoDAle0"
      },
      "source": [
        "[numpy ones](https://numpy.org/doc/stable/reference/generated/numpy.ones.html)"
      ]
    },
    {
      "cell_type": "code",
      "execution_count": null,
      "metadata": {
        "id": "ok2qiGECAle1"
      },
      "outputs": [],
      "source": []
    },
    {
      "cell_type": "markdown",
      "metadata": {
        "id": "Uuf5bWuoAle1"
      },
      "source": [
        "[numpy arange](https://numpy.org/doc/stable/reference/generated/numpy.arange.html#numpy-arange)"
      ]
    },
    {
      "cell_type": "code",
      "execution_count": null,
      "metadata": {
        "id": "rBtC5e0GAle2"
      },
      "outputs": [],
      "source": []
    },
    {
      "cell_type": "markdown",
      "metadata": {
        "id": "WzOMGOx4Ale3"
      },
      "source": [
        "[numpy linspace](https://numpy.org/devdocs/reference/generated/numpy.linspace.html#numpy-linspace)"
      ]
    },
    {
      "cell_type": "markdown",
      "metadata": {
        "id": "Bw757uyDAle3"
      },
      "source": [
        "Gerar um array com **linspace** pode ser bastante útil quando queremos lidar com algumas situações em gráficos."
      ]
    },
    {
      "cell_type": "code",
      "execution_count": null,
      "metadata": {
        "id": "X1ufT6UDAle3"
      },
      "outputs": [],
      "source": []
    },
    {
      "cell_type": "markdown",
      "metadata": {
        "id": "eUSTN0tKAle4"
      },
      "source": [
        "[numpy random](https://numpy.org/doc/stable/reference/random/index.html#module-numpy.random)"
      ]
    },
    {
      "cell_type": "markdown",
      "metadata": {
        "id": "Lkq7c5eCAle4"
      },
      "source": [
        "Array com valores aleatorios de uma distribuição uniforme entre 0 e 1 (exclusivo)"
      ]
    },
    {
      "cell_type": "code",
      "execution_count": null,
      "metadata": {
        "id": "zdfgN_TxAle4"
      },
      "outputs": [],
      "source": []
    },
    {
      "cell_type": "markdown",
      "metadata": {
        "id": "6cTc9SODAle5"
      },
      "source": [
        "Array com inteiros aleatórios dentro de um intervalo"
      ]
    },
    {
      "cell_type": "code",
      "execution_count": null,
      "metadata": {
        "id": "OtJGClxIAle6"
      },
      "outputs": [],
      "source": []
    },
    {
      "cell_type": "markdown",
      "metadata": {
        "id": "ZCPGcb9rAle6"
      },
      "source": [
        "Fixando a seed: números aleatórios reproduzíveis"
      ]
    },
    {
      "cell_type": "code",
      "execution_count": null,
      "metadata": {
        "id": "rgjKOw-lAle6"
      },
      "outputs": [],
      "source": []
    },
    {
      "cell_type": "markdown",
      "metadata": {
        "id": "cp9S83ktAle7"
      },
      "source": [
        "Também conseguimos trabalhar com **distribuições estatísticas de probabilidade**. Vejamos, por exemplo, como é possível gerar números aleatórios que obedeçam a uma distribuição normal.\n",
        "\n",
        "<img src = \"https://www.allaboutcircuits.com/uploads/articles/an-introduction-to-the-normal-distribution-in-electrical-engineerin-rk-aac-image1.jpg\" />"
      ]
    },
    {
      "cell_type": "markdown",
      "metadata": {
        "id": "-yW3eqkKAle8"
      },
      "source": [
        "Array com números aleatórios de uma distribuição normal (gaussiana)"
      ]
    },
    {
      "cell_type": "code",
      "execution_count": null,
      "metadata": {
        "id": "Er6qDbamAle9"
      },
      "outputs": [],
      "source": []
    },
    {
      "cell_type": "markdown",
      "metadata": {
        "id": "g05ikoz8Ale9"
      },
      "source": [
        "__Uma pequena olhada...__\n",
        "\n",
        "plotando distribuições com o seaborn"
      ]
    },
    {
      "cell_type": "code",
      "execution_count": null,
      "metadata": {
        "id": "i0zuzLOtAle-"
      },
      "outputs": [],
      "source": []
    },
    {
      "cell_type": "markdown",
      "metadata": {
        "id": "0BMz-BFGAle-"
      },
      "source": [
        "#### Operações simples\n",
        "\n",
        "É possível fazer operações matemáticas **elemento a elemento** com os arrays, de forma bem simples:"
      ]
    },
    {
      "cell_type": "markdown",
      "metadata": {
        "ExecuteTime": {
          "end_time": "2020-01-04T20:59:48.500686Z",
          "start_time": "2020-01-04T20:59:48.495192Z"
        },
        "id": "qf1oOeYRAle_"
      },
      "source": [
        "Em numpy, as operações básicas (+, -, *, /) funcionam elemento a elemento"
      ]
    },
    {
      "cell_type": "code",
      "execution_count": null,
      "metadata": {
        "id": "ktCpYNtiAle_"
      },
      "outputs": [],
      "source": []
    },
    {
      "cell_type": "markdown",
      "metadata": {
        "id": "lhy4FTjLAle_"
      },
      "source": [
        "#### Funções numpy"
      ]
    },
    {
      "cell_type": "markdown",
      "metadata": {
        "id": "aXq3OBo1AlfA"
      },
      "source": [
        "Maior valor"
      ]
    },
    {
      "cell_type": "code",
      "execution_count": null,
      "metadata": {
        "id": "Y05TMVtpAlfA"
      },
      "outputs": [],
      "source": []
    },
    {
      "cell_type": "markdown",
      "metadata": {
        "id": "UkxkQMwJAlfB"
      },
      "source": [
        "Indice do elemento máximo"
      ]
    },
    {
      "cell_type": "code",
      "execution_count": null,
      "metadata": {
        "id": "s5nMnja8AlfB"
      },
      "outputs": [],
      "source": []
    },
    {
      "cell_type": "markdown",
      "metadata": {
        "id": "1gGJsJIDAlfC"
      },
      "source": [
        "Menor valor"
      ]
    },
    {
      "cell_type": "code",
      "execution_count": null,
      "metadata": {
        "id": "2jxK7PT4AlfC"
      },
      "outputs": [],
      "source": []
    },
    {
      "cell_type": "markdown",
      "metadata": {
        "id": "UT03kBkJAlfD"
      },
      "source": [
        "Indice do elemento minimo"
      ]
    },
    {
      "cell_type": "code",
      "execution_count": null,
      "metadata": {
        "id": "DgpLf7C3AlfE"
      },
      "outputs": [],
      "source": []
    },
    {
      "cell_type": "markdown",
      "metadata": {
        "id": "bm_CtkBbAlfE"
      },
      "source": [
        "Soma de todos os items"
      ]
    },
    {
      "cell_type": "code",
      "execution_count": null,
      "metadata": {
        "id": "dUGBJAddAlfF"
      },
      "outputs": [],
      "source": []
    },
    {
      "cell_type": "markdown",
      "metadata": {
        "id": "fws255gvAlfF"
      },
      "source": [
        "Media dos elementos"
      ]
    },
    {
      "cell_type": "code",
      "execution_count": null,
      "metadata": {
        "id": "gCvjToR2AlfG"
      },
      "outputs": [],
      "source": []
    },
    {
      "cell_type": "markdown",
      "metadata": {
        "id": "7jZfnvnWAlfG"
      },
      "source": [
        "Desvio padrão"
      ]
    },
    {
      "cell_type": "code",
      "execution_count": null,
      "metadata": {
        "id": "6BnNAQSoAlfG"
      },
      "outputs": [],
      "source": []
    },
    {
      "cell_type": "markdown",
      "metadata": {
        "id": "RlEERJI-AlfH"
      },
      "source": [
        "Ordenar a lista"
      ]
    },
    {
      "cell_type": "code",
      "execution_count": null,
      "metadata": {
        "id": "aus88MK-AlfH"
      },
      "outputs": [],
      "source": []
    },
    {
      "cell_type": "markdown",
      "metadata": {
        "id": "1w81TZgPAlfH"
      },
      "source": [
        "Trocando o tipo dos dados nas lista com o .astype()"
      ]
    },
    {
      "cell_type": "code",
      "execution_count": null,
      "metadata": {
        "id": "4_xcwwtVAlfI"
      },
      "outputs": [],
      "source": []
    },
    {
      "cell_type": "markdown",
      "metadata": {
        "id": "po0L9YrnAlfI"
      },
      "source": [
        "## Vamos praticar?"
      ]
    },
    {
      "cell_type": "markdown",
      "metadata": {
        "id": "DvW6gGkeAlfI"
      },
      "source": [
        "Em grupos, resolvam os exercícios a seguir."
      ]
    },
    {
      "cell_type": "markdown",
      "metadata": {
        "id": "EFfvM6LIAlfJ"
      },
      "source": [
        "**1.** Em estatística, a normalização de uma distribuição de dados pode ser feita subtraindo o valor médio da distribuição de cada valor do conjunto de dados, dividindo o resultado pelo desvio-padrão da distribuição. Escreva uma função que normalize os dados recebidos por um array numpy qualquer, conforme descrito anteriormente."
      ]
    },
    {
      "cell_type": "code",
      "execution_count": null,
      "metadata": {
        "id": "yfho2bziAlfJ"
      },
      "outputs": [],
      "source": []
    },
    {
      "cell_type": "markdown",
      "metadata": {
        "id": "p60_N7ZwAlfK"
      },
      "source": [
        "**2.** Escreva uma função em numpy que receba um array contendo notas de uma turma de 100 estudantes. Considere que a nota de aprovação da turma é 5.0. A função deve retornar, em um array numpy, nesta ordem:\n",
        "- a média e o desvio-padrão das notas da turma;\n",
        "- o número de notas maiores que 7.0;\n",
        "- o número de reprovações da turma;\n",
        "- a menor nota da turma;\n",
        "- a maior nota da turma."
      ]
    },
    {
      "cell_type": "code",
      "execution_count": null,
      "metadata": {
        "id": "Q3wkBCFtAlfK"
      },
      "outputs": [],
      "source": []
    }
  ],
  "metadata": {
    "kernelspec": {
      "display_name": "SUZANO-TECPROG1",
      "language": "python",
      "name": "python3"
    },
    "language_info": {
      "codemirror_mode": {
        "name": "ipython",
        "version": 3
      },
      "file_extension": ".py",
      "mimetype": "text/x-python",
      "name": "python",
      "nbconvert_exporter": "python",
      "pygments_lexer": "ipython3",
      "version": "3.10.6"
    },
    "orig_nbformat": 4,
    "vscode": {
      "interpreter": {
        "hash": "38d4061a99e7c6638a090ce08c14a66640e6088dc5ef74a7f33c8fdd952ca81d"
      }
    },
    "colab": {
      "provenance": [],
      "include_colab_link": true
    }
  },
  "nbformat": 4,
  "nbformat_minor": 0
}