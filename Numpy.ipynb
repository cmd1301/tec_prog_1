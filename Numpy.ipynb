{
  "cells": [
    {
      "cell_type": "markdown",
      "metadata": {
        "id": "view-in-github",
        "colab_type": "text"
      },
      "source": [
        "<a href=\"https://colab.research.google.com/github/robertosgpontes/tec_prog_1/blob/main/Numpy.ipynb\" target=\"_parent\"><img src=\"https://colab.research.google.com/assets/colab-badge.svg\" alt=\"Open In Colab\"/></a>"
      ]
    },
    {
      "cell_type": "markdown",
      "metadata": {
        "id": "ck4mz0HzAleV"
      },
      "source": [
        "<img src=\"https://upload.wikimedia.org/wikipedia/commons/thumb/3/31/NumPy_logo_2020.svg/2560px-NumPy_logo_2020.svg.png\" alt=\"Alternative text\" />"
      ]
    },
    {
      "cell_type": "markdown",
      "metadata": {
        "id": "eGVnLJMDAleX"
      },
      "source": [
        "A biblioteca **NumPy** _(Numerical Python)_ proporciona uma forma eficiente de armazenagem e processamento de conjuntos de dados, e é utilizada como base para a construção da biblioteca Pandas, que estudaremos a seguir.\n",
        "\n",
        "O diferencial do Numpy é sua velocidade e eficiência, o que faz com que ela seja amplamente utilizada para computação científica e análise de dados. \n",
        "\n",
        "A velocidade e eficiência é possível graças à estrutura chamada **numpy array**, que é um forma eficiente de guardar e manipular matrizes, que serve como base para as tabelas que iremos utilizar."
      ]
    },
    {
      "cell_type": "markdown",
      "metadata": {
        "id": "RvWTYJ8QAlea"
      },
      "source": [
        "[Guia rápido de uso da biblioteca](https://numpy.org/devdocs/user/quickstart.html)\n",
        "\n",
        "[Guia para iniciantes](https://numpy.org/devdocs/user/absolute_beginners.html)"
      ]
    },
    {
      "cell_type": "markdown",
      "metadata": {
        "id": "wVMzQ3HKAled"
      },
      "source": [
        "___"
      ]
    },
    {
      "cell_type": "markdown",
      "metadata": {
        "id": "Wgn4cJ7IAlee"
      },
      "source": [
        "Qual a diferença entre um numpy array e uma lista?"
      ]
    },
    {
      "cell_type": "markdown",
      "metadata": {
        "id": "ksLymSzkAleg"
      },
      "source": [
        "**numpy array:** armazena somente um tipo de dado (homogêneo), ocupando menos memória. É pensado para maior eficiência de cálculo.\n",
        "\n",
        "**lista:** permite armazenar dados de vários tipos."
      ]
    },
    {
      "cell_type": "code",
      "execution_count": 1,
      "metadata": {
        "colab": {
          "base_uri": "https://localhost:8080/"
        },
        "id": "jMaym1x2Alei",
        "outputId": "00eb4d6b-9f87-49d3-8d16-017cec3802a2"
      },
      "outputs": [
        {
          "output_type": "execute_result",
          "data": {
            "text/plain": [
              "['a', 2, 2.4, True, [1, 3], {'a:1'}]"
            ]
          },
          "metadata": {},
          "execution_count": 1
        }
      ],
      "source": [
        "lista = [\"a\", 2, 2.4, True, [1,3], {\"a:1\"}]\n",
        "lista"
      ]
    },
    {
      "cell_type": "code",
      "execution_count": 2,
      "metadata": {
        "colab": {
          "base_uri": "https://localhost:8080/"
        },
        "id": "kCQkatJBAlel",
        "outputId": "ee9a47ea-0435-4c9c-9720-71d0182c4730"
      },
      "outputs": [
        {
          "output_type": "execute_result",
          "data": {
            "text/plain": [
              "['a', 2, 2.4, True, [1, 3], {'a:1'}, 'Olá']"
            ]
          },
          "metadata": {},
          "execution_count": 2
        }
      ],
      "source": [
        "lista.append(\"Olá\")\n",
        "lista"
      ]
    },
    {
      "cell_type": "markdown",
      "metadata": {
        "id": "Avy6UMuuAlen"
      },
      "source": [
        "Importando o numpy"
      ]
    },
    {
      "cell_type": "code",
      "execution_count": 3,
      "metadata": {
        "id": "4zSMWRnqAleo"
      },
      "outputs": [],
      "source": [
        "import numpy as np"
      ]
    },
    {
      "cell_type": "markdown",
      "metadata": {
        "id": "up_efyA7Aleo"
      },
      "source": [
        "### Arrays em numpy"
      ]
    },
    {
      "cell_type": "markdown",
      "metadata": {
        "id": "h4MGlQTLAlep"
      },
      "source": [
        "<img src = \"https://numpy.org/devdocs/_images/np_array.png\" />"
      ]
    },
    {
      "cell_type": "markdown",
      "metadata": {
        "id": "YEofh7adAleq"
      },
      "source": [
        "#### Criando arrays\n",
        "\n",
        "Pra criar arrays a partir de uma lista, basta utilizar a função **np.array()**"
      ]
    },
    {
      "cell_type": "code",
      "execution_count": 4,
      "metadata": {
        "colab": {
          "base_uri": "https://localhost:8080/"
        },
        "id": "_XnrmT2yAler",
        "outputId": "f8e87512-5fd5-48b0-9b37-39aa482348ac"
      },
      "outputs": [
        {
          "output_type": "stream",
          "name": "stdout",
          "text": [
            "[1 2 3]\n"
          ]
        }
      ],
      "source": [
        "print(np.array([1, 2, 3]))"
      ]
    },
    {
      "cell_type": "markdown",
      "metadata": {
        "id": "m-a2OjRLAler"
      },
      "source": [
        "#### Atributos básicos pra um ndarray"
      ]
    },
    {
      "cell_type": "code",
      "execution_count": 5,
      "metadata": {
        "id": "2F7Q8ARYQwJK"
      },
      "outputs": [],
      "source": [
        "_array = np.array([1, 2, 3, 4])"
      ]
    },
    {
      "cell_type": "markdown",
      "metadata": {
        "id": "Qep8sX_FAles"
      },
      "source": [
        "O formato dele"
      ]
    },
    {
      "cell_type": "code",
      "execution_count": 6,
      "metadata": {
        "colab": {
          "base_uri": "https://localhost:8080/"
        },
        "id": "5t69lkgIAlet",
        "outputId": "e58c0e05-7022-4774-a322-714cd2e0001b"
      },
      "outputs": [
        {
          "output_type": "execute_result",
          "data": {
            "text/plain": [
              "(4,)"
            ]
          },
          "metadata": {},
          "execution_count": 6
        }
      ],
      "source": [
        "_array.shape"
      ]
    },
    {
      "cell_type": "markdown",
      "metadata": {
        "id": "f7dH5x2AAlet"
      },
      "source": [
        "Quantas dimensões ele tem"
      ]
    },
    {
      "cell_type": "code",
      "execution_count": 7,
      "metadata": {
        "colab": {
          "base_uri": "https://localhost:8080/"
        },
        "id": "NlyQd6_dAleu",
        "outputId": "e371ec17-cfb4-49fd-f645-aa506e88daf0"
      },
      "outputs": [
        {
          "output_type": "execute_result",
          "data": {
            "text/plain": [
              "1"
            ]
          },
          "metadata": {},
          "execution_count": 7
        }
      ],
      "source": [
        "_array.ndim"
      ]
    },
    {
      "cell_type": "markdown",
      "metadata": {
        "id": "GeEc62_KAleu"
      },
      "source": [
        "Obter o tipo dos elementos do array (número, letra, ...)"
      ]
    },
    {
      "cell_type": "code",
      "execution_count": 8,
      "metadata": {
        "colab": {
          "base_uri": "https://localhost:8080/"
        },
        "id": "-_wyr4cnAlev",
        "outputId": "4b58a73c-d9c7-4e36-98b1-7bc18e9545cc"
      },
      "outputs": [
        {
          "output_type": "execute_result",
          "data": {
            "text/plain": [
              "dtype('int64')"
            ]
          },
          "metadata": {},
          "execution_count": 8
        }
      ],
      "source": [
        "_array.dtype"
      ]
    },
    {
      "cell_type": "markdown",
      "metadata": {
        "id": "2rgnYfvCAlev"
      },
      "source": [
        "#### Tipo de dados em um ndarray"
      ]
    },
    {
      "cell_type": "markdown",
      "metadata": {
        "id": "vdi4sDdLAlew"
      },
      "source": [
        "O dtype de um array do numpy pode ser controlado na hora que a gente cria."
      ]
    },
    {
      "cell_type": "code",
      "execution_count": 9,
      "metadata": {
        "colab": {
          "base_uri": "https://localhost:8080/"
        },
        "id": "VFZv4N_TAlew",
        "outputId": "17306891-8f71-4d77-b479-15d5964374f2"
      },
      "outputs": [
        {
          "output_type": "stream",
          "name": "stdout",
          "text": [
            "[1. 2. 3. 4.]\n"
          ]
        }
      ],
      "source": [
        "_array = np.array([1, 2, 3, 4], dtype=np.float16)\n",
        "print(_array)"
      ]
    },
    {
      "cell_type": "code",
      "execution_count": 10,
      "metadata": {
        "colab": {
          "base_uri": "https://localhost:8080/"
        },
        "id": "7_xAjJwxRlgi",
        "outputId": "b4fd8c1b-541b-4c98-ec60-a8f69e92dd6b"
      },
      "outputs": [
        {
          "output_type": "execute_result",
          "data": {
            "text/plain": [
              "dtype('float16')"
            ]
          },
          "metadata": {},
          "execution_count": 10
        }
      ],
      "source": [
        "_array.dtype"
      ]
    },
    {
      "cell_type": "markdown",
      "metadata": {
        "id": "siv0V07eAlex"
      },
      "source": [
        "Mas quando a gente não define o tipo de dados?"
      ]
    },
    {
      "cell_type": "code",
      "execution_count": 11,
      "metadata": {
        "colab": {
          "base_uri": "https://localhost:8080/"
        },
        "id": "pzqIPzwwAlex",
        "outputId": "9f6a9fe6-feab-46a5-a1ce-eb6cd3bb798c"
      },
      "outputs": [
        {
          "output_type": "stream",
          "name": "stdout",
          "text": [
            "[1. 2. 3.]\n",
            "float64\n"
          ]
        }
      ],
      "source": [
        "py_array_2 = [1.0,   2,  3.0]\n",
        "\n",
        "_array = np.array(py_array_2)\n",
        "\n",
        "print(_array)\n",
        "print(_array.dtype)"
      ]
    },
    {
      "cell_type": "code",
      "execution_count": 12,
      "metadata": {
        "colab": {
          "base_uri": "https://localhost:8080/"
        },
        "id": "6nVv2mFUSZ58",
        "outputId": "031fa9b7-c394-4c3b-c337-e169f757274e"
      },
      "outputs": [
        {
          "output_type": "stream",
          "name": "stdout",
          "text": [
            "['a' '2' '3']\n",
            "<U21\n"
          ]
        }
      ],
      "source": [
        "py_array_string = ['a',   2,  3]\n",
        "np_array_string = np.array(py_array_string)\n",
        "\n",
        "print(np_array_string)\n",
        "print(np_array_string.dtype)\n"
      ]
    },
    {
      "cell_type": "code",
      "execution_count": 13,
      "metadata": {
        "colab": {
          "base_uri": "https://localhost:8080/"
        },
        "id": "Ax55AEwlS4t6",
        "outputId": "c8da5e23-a7db-41ec-b565-35ec2e9a6572"
      },
      "outputs": [
        {
          "output_type": "stream",
          "name": "stdout",
          "text": [
            "1\n",
            "(3,)\n"
          ]
        }
      ],
      "source": [
        "print(np_array_string.ndim)\n",
        "print(np_array_string.shape)"
      ]
    },
    {
      "cell_type": "code",
      "execution_count": 14,
      "metadata": {
        "colab": {
          "base_uri": "https://localhost:8080/"
        },
        "id": "fAgRFSzHWlbY",
        "outputId": "02d074fd-9727-414d-c2ad-c12f948e4f86"
      },
      "outputs": [
        {
          "output_type": "execute_result",
          "data": {
            "text/plain": [
              "array([-24], dtype=int8)"
            ]
          },
          "metadata": {},
          "execution_count": 14
        }
      ],
      "source": [
        "# E se o número for maior que a representação\n",
        "np.array([1000], dtype=np.int8)"
      ]
    },
    {
      "cell_type": "markdown",
      "metadata": {
        "id": "W8_BwV8fAley"
      },
      "source": [
        "#### Formas de inicializar Arrays"
      ]
    },
    {
      "cell_type": "markdown",
      "metadata": {
        "id": "sWaPnlWHAlez"
      },
      "source": [
        "[numpy zeros](https://numpy.org/doc/stable/reference/generated/numpy.zeros.html)"
      ]
    },
    {
      "cell_type": "code",
      "execution_count": 15,
      "metadata": {
        "colab": {
          "base_uri": "https://localhost:8080/"
        },
        "id": "IyfOWOHdAle0",
        "outputId": "dd13dfe1-42c3-4a46-f6ae-dc8c0cc277f3"
      },
      "outputs": [
        {
          "output_type": "execute_result",
          "data": {
            "text/plain": [
              "array([0., 0., 0., 0., 0., 0., 0., 0., 0., 0.])"
            ]
          },
          "metadata": {},
          "execution_count": 15
        }
      ],
      "source": [
        "# Array de zeros com np.zeros(n)\n",
        "np.zeros(10)"
      ]
    },
    {
      "cell_type": "code",
      "execution_count": 16,
      "metadata": {
        "colab": {
          "base_uri": "https://localhost:8080/"
        },
        "id": "n5Dd33QQU9fv",
        "outputId": "8f6109e3-b794-4863-ecaa-54a66aa74945"
      },
      "outputs": [
        {
          "output_type": "execute_result",
          "data": {
            "text/plain": [
              "array([[0., 0., 0.],\n",
              "       [0., 0., 0.],\n",
              "       [0., 0., 0.],\n",
              "       [0., 0., 0.],\n",
              "       [0., 0., 0.]])"
            ]
          },
          "metadata": {},
          "execution_count": 16
        }
      ],
      "source": [
        "# Criando array só com 1s com np.ones(n)\n",
        "np.zeros((5,3))"
      ]
    },
    {
      "cell_type": "code",
      "execution_count": 17,
      "metadata": {
        "colab": {
          "base_uri": "https://localhost:8080/"
        },
        "id": "eFV4WSibVcHJ",
        "outputId": "bab751b0-c19c-4b5d-eebe-80c19114f2e0"
      },
      "outputs": [
        {
          "output_type": "execute_result",
          "data": {
            "text/plain": [
              "array([[0, 0, 0],\n",
              "       [0, 0, 0],\n",
              "       [0, 0, 0],\n",
              "       [0, 0, 0],\n",
              "       [0, 0, 0]], dtype=int8)"
            ]
          },
          "metadata": {},
          "execution_count": 17
        }
      ],
      "source": [
        "# Tipo Inteiro\n",
        "np.zeros((5,3), dtype=np.int8)"
      ]
    },
    {
      "cell_type": "markdown",
      "metadata": {
        "id": "aEK-5BoDAle0"
      },
      "source": [
        "[numpy ones](https://numpy.org/doc/stable/reference/generated/numpy.ones.html)"
      ]
    },
    {
      "cell_type": "code",
      "execution_count": 18,
      "metadata": {
        "colab": {
          "base_uri": "https://localhost:8080/"
        },
        "id": "ok2qiGECAle1",
        "outputId": "ae4d710b-05cc-44dd-cad4-5e37c0a46f27"
      },
      "outputs": [
        {
          "output_type": "execute_result",
          "data": {
            "text/plain": [
              "array([[1., 1., 1.],\n",
              "       [1., 1., 1.],\n",
              "       [1., 1., 1.],\n",
              "       [1., 1., 1.],\n",
              "       [1., 1., 1.]])"
            ]
          },
          "metadata": {},
          "execution_count": 18
        }
      ],
      "source": [
        "np.ones((5,3))"
      ]
    },
    {
      "cell_type": "markdown",
      "metadata": {
        "id": "Uuf5bWuoAle1"
      },
      "source": [
        "[numpy arange](https://numpy.org/doc/stable/reference/generated/numpy.arange.html#numpy-arange)"
      ]
    },
    {
      "cell_type": "code",
      "execution_count": 19,
      "metadata": {
        "colab": {
          "base_uri": "https://localhost:8080/"
        },
        "id": "rBtC5e0GAle2",
        "outputId": "f259a97c-755b-4bbf-c1f3-3547c3ab8222"
      },
      "outputs": [
        {
          "output_type": "execute_result",
          "data": {
            "text/plain": [
              "array([ 0,  2,  4,  6,  8, 10, 12, 14, 16, 18, 20, 22, 24, 26, 28, 30, 32,\n",
              "       34, 36, 38, 40, 42, 44, 46, 48, 50, 52, 54, 56, 58, 60, 62, 64, 66,\n",
              "       68, 70, 72, 74, 76, 78, 80, 82, 84, 86, 88, 90, 92, 94, 96, 98])"
            ]
          },
          "metadata": {},
          "execution_count": 19
        }
      ],
      "source": [
        "# Criando array de números em sequência com o np.arange() - análogo ao range()!\n",
        "np.arange(0, 100, 2)"
      ]
    },
    {
      "cell_type": "code",
      "execution_count": 20,
      "metadata": {
        "id": "aMPoIVkkZosK",
        "outputId": "7377eb4e-9ee4-4a0c-d07f-25c3edd95ba9",
        "colab": {
          "base_uri": "https://localhost:8080/"
        }
      },
      "outputs": [
        {
          "output_type": "execute_result",
          "data": {
            "text/plain": [
              "array([0, 1, 2, 3, 4, 5, 6, 7, 8, 9])"
            ]
          },
          "metadata": {},
          "execution_count": 20
        }
      ],
      "source": [
        "# se der apenas um argumento, o padrão é começar em 0 com passo 1\n",
        "# ou seja, será uma sequência com o número indicado de elementos, iniciando em zero\n",
        "np.arange(10)"
      ]
    },
    {
      "cell_type": "markdown",
      "metadata": {
        "id": "WzOMGOx4Ale3"
      },
      "source": [
        "[numpy linspace](https://numpy.org/devdocs/reference/generated/numpy.linspace.html#numpy-linspace)"
      ]
    },
    {
      "cell_type": "markdown",
      "metadata": {
        "id": "Bw757uyDAle3"
      },
      "source": [
        "Gerar um array com **linspace** pode ser bastante útil quando queremos lidar com algumas situações em gráficos."
      ]
    },
    {
      "cell_type": "code",
      "execution_count": 22,
      "metadata": {
        "id": "X1ufT6UDAle3",
        "outputId": "47768a58-be8d-4465-93ec-d82910917c73",
        "colab": {
          "base_uri": "https://localhost:8080/"
        }
      },
      "outputs": [
        {
          "output_type": "execute_result",
          "data": {
            "text/plain": [
              "array([0.        , 0.01010101, 0.02020202, 0.03030303, 0.04040404,\n",
              "       0.05050505, 0.06060606, 0.07070707, 0.08080808, 0.09090909,\n",
              "       0.1010101 , 0.11111111, 0.12121212, 0.13131313, 0.14141414,\n",
              "       0.15151515, 0.16161616, 0.17171717, 0.18181818, 0.19191919,\n",
              "       0.2020202 , 0.21212121, 0.22222222, 0.23232323, 0.24242424,\n",
              "       0.25252525, 0.26262626, 0.27272727, 0.28282828, 0.29292929,\n",
              "       0.3030303 , 0.31313131, 0.32323232, 0.33333333, 0.34343434,\n",
              "       0.35353535, 0.36363636, 0.37373737, 0.38383838, 0.39393939,\n",
              "       0.4040404 , 0.41414141, 0.42424242, 0.43434343, 0.44444444,\n",
              "       0.45454545, 0.46464646, 0.47474747, 0.48484848, 0.49494949,\n",
              "       0.50505051, 0.51515152, 0.52525253, 0.53535354, 0.54545455,\n",
              "       0.55555556, 0.56565657, 0.57575758, 0.58585859, 0.5959596 ,\n",
              "       0.60606061, 0.61616162, 0.62626263, 0.63636364, 0.64646465,\n",
              "       0.65656566, 0.66666667, 0.67676768, 0.68686869, 0.6969697 ,\n",
              "       0.70707071, 0.71717172, 0.72727273, 0.73737374, 0.74747475,\n",
              "       0.75757576, 0.76767677, 0.77777778, 0.78787879, 0.7979798 ,\n",
              "       0.80808081, 0.81818182, 0.82828283, 0.83838384, 0.84848485,\n",
              "       0.85858586, 0.86868687, 0.87878788, 0.88888889, 0.8989899 ,\n",
              "       0.90909091, 0.91919192, 0.92929293, 0.93939394, 0.94949495,\n",
              "       0.95959596, 0.96969697, 0.97979798, 0.98989899, 1.        ])"
            ]
          },
          "metadata": {},
          "execution_count": 22
        }
      ],
      "source": [
        "np.linspace(0, 1, 100)"
      ]
    },
    {
      "cell_type": "markdown",
      "source": [
        "Vamos fazer um gráfico"
      ],
      "metadata": {
        "id": "FToKWKsGbsUA"
      }
    },
    {
      "cell_type": "code",
      "source": [
        "import matplotlib.pyplot as plt\n",
        "\n",
        "x = np.linspace(0, 10, 100)\n",
        "y = np.sin(x)\n",
        "\n",
        "print (x, '\\n', y)"
      ],
      "metadata": {
        "id": "SJOa9EIxbZzw",
        "outputId": "ef7f4d44-65b9-4b84-88ac-c4685967e1d2",
        "colab": {
          "base_uri": "https://localhost:8080/"
        }
      },
      "execution_count": 32,
      "outputs": [
        {
          "output_type": "stream",
          "name": "stdout",
          "text": [
            "[ 0.          0.1010101   0.2020202   0.3030303   0.4040404   0.50505051\n",
            "  0.60606061  0.70707071  0.80808081  0.90909091  1.01010101  1.11111111\n",
            "  1.21212121  1.31313131  1.41414141  1.51515152  1.61616162  1.71717172\n",
            "  1.81818182  1.91919192  2.02020202  2.12121212  2.22222222  2.32323232\n",
            "  2.42424242  2.52525253  2.62626263  2.72727273  2.82828283  2.92929293\n",
            "  3.03030303  3.13131313  3.23232323  3.33333333  3.43434343  3.53535354\n",
            "  3.63636364  3.73737374  3.83838384  3.93939394  4.04040404  4.14141414\n",
            "  4.24242424  4.34343434  4.44444444  4.54545455  4.64646465  4.74747475\n",
            "  4.84848485  4.94949495  5.05050505  5.15151515  5.25252525  5.35353535\n",
            "  5.45454545  5.55555556  5.65656566  5.75757576  5.85858586  5.95959596\n",
            "  6.06060606  6.16161616  6.26262626  6.36363636  6.46464646  6.56565657\n",
            "  6.66666667  6.76767677  6.86868687  6.96969697  7.07070707  7.17171717\n",
            "  7.27272727  7.37373737  7.47474747  7.57575758  7.67676768  7.77777778\n",
            "  7.87878788  7.97979798  8.08080808  8.18181818  8.28282828  8.38383838\n",
            "  8.48484848  8.58585859  8.68686869  8.78787879  8.88888889  8.98989899\n",
            "  9.09090909  9.19191919  9.29292929  9.39393939  9.49494949  9.5959596\n",
            "  9.6969697   9.7979798   9.8989899  10.        ] \n",
            " [ 0.          0.10083842  0.20064886  0.2984138   0.39313661  0.48385164\n",
            "  0.56963411  0.64960951  0.72296256  0.78894546  0.84688556  0.8961922\n",
            "  0.93636273  0.96698762  0.98775469  0.99845223  0.99897117  0.98930624\n",
            "  0.96955595  0.93992165  0.90070545  0.85230712  0.79522006  0.73002623\n",
            "  0.65739025  0.57805259  0.49282204  0.40256749  0.30820902  0.21070855\n",
            "  0.11106004  0.01027934 -0.09060615 -0.19056796 -0.28858706 -0.38366419\n",
            " -0.47483011 -0.56115544 -0.64176014 -0.7158225  -0.7825875  -0.84137452\n",
            " -0.89158426 -0.93270486 -0.96431712 -0.98609877 -0.99782778 -0.99938456\n",
            " -0.99075324 -0.97202182 -0.94338126 -0.90512352 -0.85763861 -0.80141062\n",
            " -0.73701276 -0.66510151 -0.58640998 -0.50174037 -0.41195583 -0.31797166\n",
            " -0.22074597 -0.12126992 -0.0205576   0.0803643   0.18046693  0.27872982\n",
            "  0.37415123  0.46575841  0.55261747  0.63384295  0.7086068   0.77614685\n",
            "  0.83577457  0.8868821   0.92894843  0.96154471  0.98433866  0.99709789\n",
            "  0.99969234  0.99209556  0.97438499  0.94674118  0.90944594  0.86287948\n",
            "  0.8075165   0.74392141  0.6727425   0.59470541  0.51060568  0.42130064\n",
            "  0.32770071  0.23076008  0.13146699  0.03083368 -0.07011396 -0.17034683\n",
            " -0.26884313 -0.36459873 -0.45663749 -0.54402111]\n"
          ]
        }
      ]
    },
    {
      "cell_type": "code",
      "source": [
        "plt.plot(x,y)"
      ],
      "metadata": {
        "id": "DjEcWyKPc31u",
        "outputId": "91f28971-2abb-4142-f455-3809974b0808",
        "colab": {
          "base_uri": "https://localhost:8080/",
          "height": 283
        }
      },
      "execution_count": 34,
      "outputs": [
        {
          "output_type": "execute_result",
          "data": {
            "text/plain": [
              "[<matplotlib.lines.Line2D at 0x7efcc2413340>]"
            ]
          },
          "metadata": {},
          "execution_count": 34
        },
        {
          "output_type": "display_data",
          "data": {
            "text/plain": [
              "<Figure size 432x288 with 1 Axes>"
            ],
            "image/png": "[encoded data removed]"
          },
          "metadata": {
            "needs_background": "light"
          }
        }
      ]
    },
    {
      "cell_type": "markdown",
      "metadata": {
        "id": "eUSTN0tKAle4"
      },
      "source": [
        "[numpy random](https://numpy.org/doc/stable/reference/random/index.html#module-numpy.random)"
      ]
    },
    {
      "cell_type": "markdown",
      "metadata": {
        "id": "Lkq7c5eCAle4"
      },
      "source": [
        "Array com valores aleatorios de uma distribuição uniforme entre 0 e 1 (exclusivo)"
      ]
    },
    {
      "cell_type": "code",
      "execution_count": 35,
      "metadata": {
        "id": "zdfgN_TxAle4",
        "outputId": "5b662b07-961c-4f2a-f372-22737ba2d5bc",
        "colab": {
          "base_uri": "https://localhost:8080/"
        }
      },
      "outputs": [
        {
          "output_type": "execute_result",
          "data": {
            "text/plain": [
              "array([0.18669447, 0.73149754, 0.71949146, 0.82688901, 0.1445819 ,\n",
              "       0.76185442, 0.32791183, 0.64657572, 0.39237483, 0.97526646])"
            ]
          },
          "metadata": {},
          "execution_count": 35
        }
      ],
      "source": [
        "np.random.rand(10)"
      ]
    },
    {
      "cell_type": "code",
      "source": [
        "np.random.rand(10)*55"
      ],
      "metadata": {
        "id": "YkRDwi7Hdwhj",
        "outputId": "e6204761-342d-4c34-a43c-7a2c05180083",
        "colab": {
          "base_uri": "https://localhost:8080/"
        }
      },
      "execution_count": 36,
      "outputs": [
        {
          "output_type": "execute_result",
          "data": {
            "text/plain": [
              "array([34.0727164 , 17.95858301,  1.72545879, 18.79827797, 27.95433485,\n",
              "       52.12300061, 41.18112448, 16.95169947, 44.48959525,  1.89941792])"
            ]
          },
          "metadata": {},
          "execution_count": 36
        }
      ]
    },
    {
      "cell_type": "code",
      "source": [
        "np.random.rand(10)*55 + 5"
      ],
      "metadata": {
        "id": "4FO6V3leeOyH",
        "outputId": "c8c06b5b-6980-4bbb-d882-197bae1f54d2",
        "colab": {
          "base_uri": "https://localhost:8080/"
        }
      },
      "execution_count": 37,
      "outputs": [
        {
          "output_type": "execute_result",
          "data": {
            "text/plain": [
              "array([11.97855951, 43.05242733, 20.84557072, 36.88632618, 31.79583008,\n",
              "       51.39000445, 47.85977632, 51.80378208, 59.54033553, 34.54557184])"
            ]
          },
          "metadata": {},
          "execution_count": 37
        }
      ]
    },
    {
      "cell_type": "code",
      "source": [
        "# plotando distribuições (uniforme e normal) com o seaborn\n",
        "import seaborn as sns\n",
        "x = np.random.rand(100000)*55 + 5\n",
        "sns.histplot(x)"
      ],
      "metadata": {
        "id": "f9gtNHzbelvz",
        "outputId": "d19e5308-e5a4-4457-8065-2a2606817785",
        "colab": {
          "base_uri": "https://localhost:8080/",
          "height": 283
        }
      },
      "execution_count": 39,
      "outputs": [
        {
          "output_type": "execute_result",
          "data": {
            "text/plain": [
              "<matplotlib.axes._subplots.AxesSubplot at 0x7efcbacb6f10>"
            ]
          },
          "metadata": {},
          "execution_count": 39
        },
        {
          "output_type": "display_data",
          "data": {
            "text/plain": [
              "<Figure size 432x288 with 1 Axes>"
            ],
            "image/png": "[encoded data removed]"
          },
          "metadata": {
            "needs_background": "light"
          }
        }
      ]
    },
    {
      "cell_type": "markdown",
      "metadata": {
        "id": "6cTc9SODAle5"
      },
      "source": [
        "Array com inteiros aleatórios dentro de um intervalo"
      ]
    },
    {
      "cell_type": "code",
      "execution_count": 43,
      "metadata": {
        "id": "OtJGClxIAle6",
        "outputId": "6e5f2671-565a-4283-86ad-8cfed63314ea",
        "colab": {
          "base_uri": "https://localhost:8080/"
        }
      },
      "outputs": [
        {
          "output_type": "execute_result",
          "data": {
            "text/plain": [
              "array([435, 778, 576, 498, 638, 400, 301, 145, 869, 137, 435, 773, 663,\n",
              "        21, 472])"
            ]
          },
          "metadata": {},
          "execution_count": 43
        }
      ],
      "source": [
        "np.random.randint(0, 1000, 15)"
      ]
    },
    {
      "cell_type": "markdown",
      "metadata": {
        "id": "ZCPGcb9rAle6"
      },
      "source": [
        "Fixando a seed: números aleatórios reproduzíveis"
      ]
    },
    {
      "cell_type": "code",
      "execution_count": 50,
      "metadata": {
        "id": "rgjKOw-lAle6",
        "outputId": "79da3ad6-a6a9-4f9e-963d-2862242fd03e",
        "colab": {
          "base_uri": "https://localhost:8080/"
        }
      },
      "outputs": [
        {
          "output_type": "execute_result",
          "data": {
            "text/plain": [
              "array([ 9, 13,  4,  0,  1, 11, 12,  9, 13,  0, 13,  1, 10,  8,  9,  0, 10,\n",
              "        8,  6,  4])"
            ]
          },
          "metadata": {},
          "execution_count": 50
        }
      ],
      "source": [
        "np.random.seed(10)\n",
        "np.random.randint(0, 15, 20)"
      ]
    },
    {
      "cell_type": "markdown",
      "metadata": {
        "id": "cp9S83ktAle7"
      },
      "source": [
        "Também conseguimos trabalhar com **distribuições estatísticas de probabilidade**. Vejamos, por exemplo, como é possível gerar números aleatórios que obedeçam a uma distribuição normal.\n",
        "\n",
        "<img src = \"https://www.allaboutcircuits.com/uploads/articles/an-introduction-to-the-normal-distribution-in-electrical-engineerin-rk-aac-image1.jpg\" />"
      ]
    },
    {
      "cell_type": "markdown",
      "metadata": {
        "id": "-yW3eqkKAle8"
      },
      "source": [
        "Array com números aleatórios de uma distribuição normal (gaussiana)"
      ]
    },
    {
      "cell_type": "code",
      "execution_count": 52,
      "metadata": {
        "id": "Er6qDbamAle9",
        "outputId": "6807a04f-d274-45d4-a70b-30fd2d797bbd",
        "colab": {
          "base_uri": "https://localhost:8080/"
        }
      },
      "outputs": [
        {
          "output_type": "execute_result",
          "data": {
            "text/plain": [
              "array([-0.6579709 ,  0.42211306,  0.62402334,  0.5016401 ,  0.84143473,\n",
              "       -1.64024998,  1.05800516, -0.09178444, -0.72403459, -0.40046036,\n",
              "        0.44532458,  0.95993965, -1.34635384,  2.01889937,  1.08237635,\n",
              "       -1.78571782, -0.27233698, -0.29036839,  1.65614717, -1.2345687 ])"
            ]
          },
          "metadata": {},
          "execution_count": 52
        }
      ],
      "source": [
        "arr = np.random.normal(0, 1, 20)\n",
        "arr"
      ]
    },
    {
      "cell_type": "code",
      "source": [
        "arr.mean()"
      ],
      "metadata": {
        "id": "FloK1EFKis9z",
        "outputId": "22288930-b9ed-4ef3-d75a-6a8d17a9c7a9",
        "colab": {
          "base_uri": "https://localhost:8080/"
        }
      },
      "execution_count": 53,
      "outputs": [
        {
          "output_type": "execute_result",
          "data": {
            "text/plain": [
              "0.05830287424246252"
            ]
          },
          "metadata": {},
          "execution_count": 53
        }
      ]
    },
    {
      "cell_type": "code",
      "source": [
        "arr.std()"
      ],
      "metadata": {
        "id": "YDGdiUvRiw2k",
        "outputId": "3e1f565f-d12f-43e2-8ea2-b5feef3d61a0",
        "colab": {
          "base_uri": "https://localhost:8080/"
        }
      },
      "execution_count": 54,
      "outputs": [
        {
          "output_type": "execute_result",
          "data": {
            "text/plain": [
              "1.0533092511071742"
            ]
          },
          "metadata": {},
          "execution_count": 54
        }
      ]
    },
    {
      "cell_type": "markdown",
      "metadata": {
        "id": "g05ikoz8Ale9"
      },
      "source": [
        "__Uma pequena olhada...__\n",
        "\n",
        "plotando distribuições com o seaborn"
      ]
    },
    {
      "cell_type": "code",
      "execution_count": 58,
      "metadata": {
        "id": "i0zuzLOtAle-",
        "outputId": "d047fee7-c99f-46ba-f89d-5a6471db68a4",
        "colab": {
          "base_uri": "https://localhost:8080/",
          "height": 283
        }
      },
      "outputs": [
        {
          "output_type": "execute_result",
          "data": {
            "text/plain": [
              "<matplotlib.axes._subplots.AxesSubplot at 0x7efcbaa6deb0>"
            ]
          },
          "metadata": {},
          "execution_count": 58
        },
        {
          "output_type": "display_data",
          "data": {
            "text/plain": [
              "<Figure size 432x288 with 1 Axes>"
            ],
            "image/png": "[encoded data removed]"
          },
          "metadata": {
            "needs_background": "light"
          }
        }
      ],
      "source": [
        "# plotando distribuições (uniforme e normal) com o seaborn\n",
        "import seaborn as sns\n",
        "x = np.random.normal(0, 1, 10000)\n",
        "sns.histplot(x, kde=True)"
      ]
    },
    {
      "cell_type": "markdown",
      "metadata": {
        "id": "q-Z4SuG3ZosV"
      },
      "source": [
        "#### Indexação\n",
        "\n",
        "É possível acessar elementos individuais dos arrays pelos **índices**, da mesma forma que fazemos com listas.\n",
        "\n",
        "<img src = \"https://numpy.org/devdocs/_images/np_indexing.png\" />"
      ]
    },
    {
      "cell_type": "code",
      "execution_count": null,
      "metadata": {
        "id": "W2r4ayXbZosW"
      },
      "outputs": [],
      "source": []
    },
    {
      "cell_type": "markdown",
      "metadata": {
        "id": "TCV3QDzNZosW"
      },
      "source": [
        "#### Trocando o tipo dos dados nas lista com o .astype()"
      ]
    },
    {
      "cell_type": "code",
      "execution_count": 66,
      "metadata": {
        "id": "4tgmHgZjZosX",
        "outputId": "27102d70-e9eb-45bf-a62a-9db6a29bc59d",
        "colab": {
          "base_uri": "https://localhost:8080/"
        }
      },
      "outputs": [
        {
          "output_type": "stream",
          "name": "stdout",
          "text": [
            "float64\n",
            "[1.  1.7 2.4 3. ]\n",
            "int64\n",
            "[1 1 2 3]\n"
          ]
        }
      ],
      "source": [
        "arr = np.array([1, 1.7, 2.4, 3.0])\n",
        "\n",
        "print(arr.dtype)\n",
        "print(arr)\n",
        "\n",
        "arr = arr.astype(np.int64)\n",
        "\n",
        "print(arr.dtype)\n",
        "print(arr)"
      ]
    },
    {
      "cell_type": "markdown",
      "metadata": {
        "id": "0BMz-BFGAle-"
      },
      "source": [
        "#### Operações simples\n",
        "\n",
        "É possível fazer operações matemáticas **elemento a elemento** com os arrays, de forma bem simples:"
      ]
    },
    {
      "cell_type": "markdown",
      "metadata": {
        "ExecuteTime": {
          "end_time": "2020-01-04T20:59:48.500686Z",
          "start_time": "2020-01-04T20:59:48.495192Z"
        },
        "id": "qf1oOeYRAle_"
      },
      "source": [
        "Em numpy, as operações básicas (+, -, *, /, ...) funcionam elemento a elemento"
      ]
    },
    {
      "cell_type": "code",
      "execution_count": 74,
      "metadata": {
        "id": "ktCpYNtiAle_"
      },
      "outputs": [],
      "source": [
        "arr = np.array([1, 2, 3, 4])"
      ]
    },
    {
      "cell_type": "code",
      "source": [
        "arr + 2"
      ],
      "metadata": {
        "id": "ZCxVNsdQk5F1",
        "outputId": "967ac8a7-8282-437e-b87b-f258986cea99",
        "colab": {
          "base_uri": "https://localhost:8080/"
        }
      },
      "execution_count": 68,
      "outputs": [
        {
          "output_type": "execute_result",
          "data": {
            "text/plain": [
              "array([3, 4, 5, 6])"
            ]
          },
          "metadata": {},
          "execution_count": 68
        }
      ]
    },
    {
      "cell_type": "code",
      "source": [
        "arr * arr"
      ],
      "metadata": {
        "id": "aFLDRjuEk_X1",
        "outputId": "e83754dd-7a8c-46e6-9280-82018dac44a3",
        "colab": {
          "base_uri": "https://localhost:8080/"
        }
      },
      "execution_count": 70,
      "outputs": [
        {
          "output_type": "execute_result",
          "data": {
            "text/plain": [
              "array([ 1,  4,  9, 16])"
            ]
          },
          "metadata": {},
          "execution_count": 70
        }
      ]
    },
    {
      "cell_type": "code",
      "source": [
        "print(arr)\n",
        "arr[1:3] = arr[1:3] * 2\n",
        "print(arr)"
      ],
      "metadata": {
        "id": "Wwj_NxzAljko",
        "outputId": "e1cfc94c-2fee-4d97-d15c-0c5b6f4fb07e",
        "colab": {
          "base_uri": "https://localhost:8080/"
        }
      },
      "execution_count": 75,
      "outputs": [
        {
          "output_type": "stream",
          "name": "stdout",
          "text": [
            "[1 2 3 4]\n",
            "[1 4 6 4]\n"
          ]
        }
      ]
    },
    {
      "cell_type": "markdown",
      "metadata": {
        "id": "lhy4FTjLAle_"
      },
      "source": [
        "#### Funções de Agregação"
      ]
    },
    {
      "cell_type": "code",
      "source": [
        "arr = np.array([15, 10, -5, 50, 60, 25])"
      ],
      "metadata": {
        "id": "64TQzZOfl0M9"
      },
      "execution_count": 87,
      "outputs": []
    },
    {
      "cell_type": "markdown",
      "metadata": {
        "id": "aXq3OBo1AlfA"
      },
      "source": [
        "Maior valor"
      ]
    },
    {
      "cell_type": "code",
      "execution_count": 79,
      "metadata": {
        "id": "Y05TMVtpAlfA",
        "outputId": "1a9536c3-5e7f-4811-9f94-f3cf863f6f25",
        "colab": {
          "base_uri": "https://localhost:8080/"
        }
      },
      "outputs": [
        {
          "output_type": "execute_result",
          "data": {
            "text/plain": [
              "60"
            ]
          },
          "metadata": {},
          "execution_count": 79
        }
      ],
      "source": [
        "arr.max()\n",
        "\n",
        "np.max(arr)"
      ]
    },
    {
      "cell_type": "markdown",
      "metadata": {
        "id": "UkxkQMwJAlfB"
      },
      "source": [
        "Indice do elemento máximo"
      ]
    },
    {
      "cell_type": "code",
      "execution_count": 80,
      "metadata": {
        "id": "s5nMnja8AlfB",
        "outputId": "cb2a7958-11a7-420f-a729-fbc79626debd",
        "colab": {
          "base_uri": "https://localhost:8080/"
        }
      },
      "outputs": [
        {
          "output_type": "execute_result",
          "data": {
            "text/plain": [
              "4"
            ]
          },
          "metadata": {},
          "execution_count": 80
        }
      ],
      "source": [
        "arr.argmax()"
      ]
    },
    {
      "cell_type": "markdown",
      "metadata": {
        "id": "1gGJsJIDAlfC"
      },
      "source": [
        "Menor valor"
      ]
    },
    {
      "cell_type": "code",
      "execution_count": 81,
      "metadata": {
        "id": "2jxK7PT4AlfC",
        "outputId": "d1e66ef3-bc18-45f1-af04-951e8e30c0a7",
        "colab": {
          "base_uri": "https://localhost:8080/"
        }
      },
      "outputs": [
        {
          "output_type": "execute_result",
          "data": {
            "text/plain": [
              "-5"
            ]
          },
          "metadata": {},
          "execution_count": 81
        }
      ],
      "source": [
        "arr.min()"
      ]
    },
    {
      "cell_type": "markdown",
      "metadata": {
        "id": "UT03kBkJAlfD"
      },
      "source": [
        "Indice do elemento minimo"
      ]
    },
    {
      "cell_type": "code",
      "execution_count": null,
      "metadata": {
        "id": "DgpLf7C3AlfE"
      },
      "outputs": [],
      "source": [
        "arr.argmin()"
      ]
    },
    {
      "cell_type": "markdown",
      "metadata": {
        "id": "bm_CtkBbAlfE"
      },
      "source": [
        "Soma de todos os items"
      ]
    },
    {
      "cell_type": "code",
      "execution_count": 82,
      "metadata": {
        "id": "dUGBJAddAlfF",
        "outputId": "d8de223f-eaa1-43a4-8285-67c40cdacc6a",
        "colab": {
          "base_uri": "https://localhost:8080/"
        }
      },
      "outputs": [
        {
          "output_type": "execute_result",
          "data": {
            "text/plain": [
              "155"
            ]
          },
          "metadata": {},
          "execution_count": 82
        }
      ],
      "source": [
        "arr.sum()"
      ]
    },
    {
      "cell_type": "markdown",
      "metadata": {
        "id": "fws255gvAlfF"
      },
      "source": [
        "Media dos elementos"
      ]
    },
    {
      "cell_type": "code",
      "execution_count": 83,
      "metadata": {
        "id": "gCvjToR2AlfG",
        "outputId": "34268438-db4e-4dfa-9c51-6042b71039fa",
        "colab": {
          "base_uri": "https://localhost:8080/"
        }
      },
      "outputs": [
        {
          "output_type": "execute_result",
          "data": {
            "text/plain": [
              "25.833333333333332"
            ]
          },
          "metadata": {},
          "execution_count": 83
        }
      ],
      "source": [
        "arr.mean()"
      ]
    },
    {
      "cell_type": "markdown",
      "metadata": {
        "id": "7jZfnvnWAlfG"
      },
      "source": [
        "Desvio padrão"
      ]
    },
    {
      "cell_type": "code",
      "execution_count": 84,
      "metadata": {
        "id": "6BnNAQSoAlfG",
        "outputId": "365d5eab-5f82-40f2-bc6b-14672ac45faa",
        "colab": {
          "base_uri": "https://localhost:8080/"
        }
      },
      "outputs": [
        {
          "output_type": "execute_result",
          "data": {
            "text/plain": [
              "22.623119934163714"
            ]
          },
          "metadata": {},
          "execution_count": 84
        }
      ],
      "source": [
        "arr.std()"
      ]
    },
    {
      "cell_type": "markdown",
      "metadata": {
        "id": "RlEERJI-AlfH"
      },
      "source": [
        "Ordenar a lista"
      ]
    },
    {
      "cell_type": "code",
      "execution_count": 86,
      "metadata": {
        "id": "aus88MK-AlfH",
        "outputId": "635bd82a-1180-446e-a45a-754c197c39b0",
        "colab": {
          "base_uri": "https://localhost:8080/"
        }
      },
      "outputs": [
        {
          "output_type": "stream",
          "name": "stdout",
          "text": [
            "[-5 10 15 25 50 60]\n"
          ]
        }
      ],
      "source": [
        "print(arr)\n",
        "np.sort()\n",
        "arr.sort()\n",
        "print(arr)"
      ]
    },
    {
      "cell_type": "code",
      "source": [
        "#Ordena sem alterar o original\n",
        "arr = np.array([15, 10, -5, 50, 60, 25])\n",
        "print(arr)\n",
        "print(np.sort(arr))\n",
        "print(arr)"
      ],
      "metadata": {
        "id": "QAv12oq2nQbu",
        "outputId": "b07c37d3-d40d-44a1-ecf9-078e4854bd6c",
        "colab": {
          "base_uri": "https://localhost:8080/"
        }
      },
      "execution_count": 88,
      "outputs": [
        {
          "output_type": "stream",
          "name": "stdout",
          "text": [
            "[15 10 -5 50 60 25]\n",
            "[-5 10 15 25 50 60]\n",
            "[15 10 -5 50 60 25]\n"
          ]
        }
      ]
    },
    {
      "cell_type": "markdown",
      "metadata": {
        "id": "uaPCH9NdZosl"
      },
      "source": [
        "#### Filtrando Dados\n",
        "\n",
        "Uma das funções mais importantes do numpy é a possibilidade de construção de **filtros**, que também são chamados de **máscaras**\n",
        "\n",
        "O objetivo dos filtros é **selecionar apenas os elementos de um array que satisfaçam determinada condição**"
      ]
    },
    {
      "cell_type": "markdown",
      "metadata": {
        "id": "IKwimTXBZosn"
      },
      "source": [
        "Ao usar um **operador lógico** juntamente com um array, o numpy **aplica a operação lógica a cada um dos elementos do array**, retornando um **array de bools** com o resultado de cada uma das operações lógicas:"
      ]
    },
    {
      "cell_type": "markdown",
      "metadata": {
        "id": "udr_e7DrZosn"
      },
      "source": [
        "Quais elementos do array são menores que um dado valor?"
      ]
    },
    {
      "cell_type": "code",
      "execution_count": 90,
      "metadata": {
        "id": "Nh0xjrjKZoso",
        "outputId": "bbd51be9-be6d-4f36-98df-fc1b54900e33",
        "colab": {
          "base_uri": "https://localhost:8080/"
        }
      },
      "outputs": [
        {
          "output_type": "execute_result",
          "data": {
            "text/plain": [
              "array([ True,  True,  True, False, False, False])"
            ]
          },
          "metadata": {},
          "execution_count": 90
        }
      ],
      "source": [
        "arr = np.array([15, 10, -5, 50, 60, 25])\n",
        "\n",
        "arr < 20"
      ]
    },
    {
      "cell_type": "code",
      "source": [
        "~(arr < 20)"
      ],
      "metadata": {
        "id": "_wgjWEGko141",
        "outputId": "9a09dc9a-3e94-4b02-a791-52bd451b80ac",
        "colab": {
          "base_uri": "https://localhost:8080/"
        }
      },
      "execution_count": 93,
      "outputs": [
        {
          "output_type": "execute_result",
          "data": {
            "text/plain": [
              "array([False, False, False,  True,  True,  True])"
            ]
          },
          "metadata": {},
          "execution_count": 93
        }
      ]
    },
    {
      "cell_type": "markdown",
      "metadata": {
        "id": "dEOkFfD3Zosp"
      },
      "source": [
        "Quantos elementos são maiores que um dado valor?"
      ]
    },
    {
      "cell_type": "code",
      "execution_count": 92,
      "metadata": {
        "id": "anvCMzDGZosp",
        "outputId": "82f97e0b-88d0-4378-a89f-fb4e84b5a445",
        "colab": {
          "base_uri": "https://localhost:8080/"
        }
      },
      "outputs": [
        {
          "output_type": "execute_result",
          "data": {
            "text/plain": [
              "3"
            ]
          },
          "metadata": {},
          "execution_count": 92
        }
      ],
      "source": [
        "(arr < 20).sum()"
      ]
    },
    {
      "cell_type": "markdown",
      "metadata": {
        "id": "6ASTYP6GZosq"
      },
      "source": [
        "Uma vez criado o filtro, é possível **utilizá-lo como indexador do array**, para selecionar **apenas os elementos com indice correspondente a True no filtro**"
      ]
    },
    {
      "cell_type": "code",
      "source": [
        "arr[(arr < 20)]"
      ],
      "metadata": {
        "id": "23q6iS2apPcP",
        "outputId": "353d6234-d05b-4ca8-faaa-00be77c02bca",
        "colab": {
          "base_uri": "https://localhost:8080/"
        }
      },
      "execution_count": 97,
      "outputs": [
        {
          "output_type": "execute_result",
          "data": {
            "text/plain": [
              "array([15, 10, -5])"
            ]
          },
          "metadata": {},
          "execution_count": 97
        }
      ]
    },
    {
      "cell_type": "code",
      "execution_count": 96,
      "metadata": {
        "id": "-n4TNfTSZosr",
        "outputId": "859d886d-bab1-4760-9c7b-56c537b7aa85",
        "colab": {
          "base_uri": "https://localhost:8080/"
        }
      },
      "outputs": [
        {
          "output_type": "execute_result",
          "data": {
            "text/plain": [
              "array([50, 60, 25])"
            ]
          },
          "metadata": {},
          "execution_count": 96
        }
      ],
      "source": [
        "arr[~(arr < 20)]"
      ]
    },
    {
      "cell_type": "markdown",
      "metadata": {
        "id": "LSBBjrt0Zoss"
      },
      "source": [
        "Também é possível aplicar **filtros compostos**!\n",
        "\n",
        "Pra fazer isso, nós fazems uma **composição lógica** entre os filtros (análogo ao \"and\" e ao \"or\")\n",
        "\n",
        "No caso de arrays, usamos:\n",
        "\n",
        "- \"&\" para \"and\"\n",
        "- \"|\" para \"or\"\n",
        "- \"~\" para \"not\""
      ]
    },
    {
      "cell_type": "code",
      "source": [
        "print(arr)"
      ],
      "metadata": {
        "id": "-alTIQ6DpcAT",
        "outputId": "a6a803e7-3ed9-4596-e631-d8a8da3a9a1a",
        "colab": {
          "base_uri": "https://localhost:8080/"
        }
      },
      "execution_count": 98,
      "outputs": [
        {
          "output_type": "stream",
          "name": "stdout",
          "text": [
            "[15 10 -5 50 60 25]\n"
          ]
        }
      ]
    },
    {
      "cell_type": "code",
      "execution_count": 101,
      "metadata": {
        "id": "JIISYckcZost",
        "outputId": "cb20aa2e-cace-4285-f0d6-3f7204c8e022",
        "colab": {
          "base_uri": "https://localhost:8080/"
        }
      },
      "outputs": [
        {
          "output_type": "execute_result",
          "data": {
            "text/plain": [
              "array([15, 10, -5])"
            ]
          },
          "metadata": {},
          "execution_count": 101
        }
      ],
      "source": [
        "arr[(arr < 20)]"
      ]
    },
    {
      "cell_type": "code",
      "source": [
        "arr[(arr % 2 == 0)]"
      ],
      "metadata": {
        "id": "tCrPHxJWph6e",
        "outputId": "d6c63bc3-3d84-4e91-b41b-03cc357e130c",
        "colab": {
          "base_uri": "https://localhost:8080/"
        }
      },
      "execution_count": 100,
      "outputs": [
        {
          "output_type": "execute_result",
          "data": {
            "text/plain": [
              "array([10, 50, 60])"
            ]
          },
          "metadata": {},
          "execution_count": 100
        }
      ]
    },
    {
      "cell_type": "code",
      "source": [
        "arr[(arr < 20) & (arr % 2 == 0)]"
      ],
      "metadata": {
        "id": "RGjCSaZdppJM",
        "outputId": "e168071e-11db-4187-a76c-2193b724ecbc",
        "colab": {
          "base_uri": "https://localhost:8080/"
        }
      },
      "execution_count": 102,
      "outputs": [
        {
          "output_type": "execute_result",
          "data": {
            "text/plain": [
              "array([10])"
            ]
          },
          "metadata": {},
          "execution_count": 102
        }
      ]
    },
    {
      "cell_type": "markdown",
      "metadata": {
        "id": "khjqCup8Zost"
      },
      "source": [
        "[np.where](https://numpy.org/doc/stable/reference/generated/numpy.where.html)"
      ]
    },
    {
      "cell_type": "code",
      "source": [
        "arr"
      ],
      "metadata": {
        "id": "az0Ba_glqM49",
        "outputId": "d9206c9c-57e9-4f63-c3d2-2aab0aeedc38",
        "colab": {
          "base_uri": "https://localhost:8080/"
        }
      },
      "execution_count": 103,
      "outputs": [
        {
          "output_type": "execute_result",
          "data": {
            "text/plain": [
              "array([15, 10, -5, 50, 60, 25])"
            ]
          },
          "metadata": {},
          "execution_count": 103
        }
      ]
    },
    {
      "cell_type": "code",
      "source": [
        "arr % 2 == 0"
      ],
      "metadata": {
        "id": "DE0yP951qc7U",
        "outputId": "c7d74c32-aa3c-4073-d332-a6637f6b8f45",
        "colab": {
          "base_uri": "https://localhost:8080/"
        }
      },
      "execution_count": 106,
      "outputs": [
        {
          "output_type": "execute_result",
          "data": {
            "text/plain": [
              "array([False,  True, False,  True,  True, False])"
            ]
          },
          "metadata": {},
          "execution_count": 106
        }
      ]
    },
    {
      "cell_type": "code",
      "execution_count": 104,
      "metadata": {
        "id": "XZYookUFZosu",
        "outputId": "9238b377-091d-48fd-f7cc-4500711e67d4",
        "colab": {
          "base_uri": "https://localhost:8080/"
        }
      },
      "outputs": [
        {
          "output_type": "execute_result",
          "data": {
            "text/plain": [
              "array([225,  10,  25,  50,  60, 625])"
            ]
          },
          "metadata": {},
          "execution_count": 104
        }
      ],
      "source": [
        "np.where(arr % 2 == 0, arr, arr**2)"
      ]
    },
    {
      "cell_type": "code",
      "source": [
        "np.where(np.array([1, 0, 0, 0, 1, 1]), arr, arr**2)"
      ],
      "metadata": {
        "id": "EJzwkiC4qhZ_",
        "outputId": "9b9f1a88-d2ce-4b3b-8daa-a9240deb1433",
        "colab": {
          "base_uri": "https://localhost:8080/"
        }
      },
      "execution_count": 108,
      "outputs": [
        {
          "output_type": "execute_result",
          "data": {
            "text/plain": [
              "array([  15,  100,   25, 2500,   60,   25])"
            ]
          },
          "metadata": {},
          "execution_count": 108
        }
      ]
    },
    {
      "cell_type": "code",
      "source": [
        "np.where(arr % 2 == 0, np.inf, np.nan)"
      ],
      "metadata": {
        "id": "AeQQ8GoNqT7C",
        "outputId": "6d5cf3ad-406d-4f7a-cb1a-b6b508dfa535",
        "colab": {
          "base_uri": "https://localhost:8080/"
        }
      },
      "execution_count": 112,
      "outputs": [
        {
          "output_type": "execute_result",
          "data": {
            "text/plain": [
              "array([nan, inf, nan, inf, inf, nan])"
            ]
          },
          "metadata": {},
          "execution_count": 112
        }
      ]
    },
    {
      "cell_type": "code",
      "source": [
        "np.where(arr % 2 == 0, arr, np.nan)"
      ],
      "metadata": {
        "id": "u62rxZg4rdhg",
        "outputId": "4ea68249-bfa1-4163-b323-5a90432fbf08",
        "colab": {
          "base_uri": "https://localhost:8080/"
        }
      },
      "execution_count": 113,
      "outputs": [
        {
          "output_type": "execute_result",
          "data": {
            "text/plain": [
              "array([nan, 10., nan, 50., 60., nan])"
            ]
          },
          "metadata": {},
          "execution_count": 113
        }
      ]
    },
    {
      "cell_type": "markdown",
      "metadata": {
        "id": "IHmHND4_Zosu"
      },
      "source": [
        "#### Matrizes\n",
        "\n",
        "Costumamos nos referir às **matrizes** como arrays multidimensionais (i.e., mais de uma dimensão).\n",
        "\n",
        "<img src = \"https://numpy.org/devdocs/_images/np_create_matrix.png\"/>"
      ]
    },
    {
      "cell_type": "code",
      "execution_count": null,
      "metadata": {
        "id": "RSadW8O0Zosv",
        "outputId": "19e8282b-4bd1-4d81-d242-f6b442786cbf"
      },
      "outputs": [
        {
          "data": {
            "text/plain": [
              "array([[1, 2],\n",
              "       [3, 4],\n",
              "       [5, 6]])"
            ]
          },
          "execution_count": 21,
          "metadata": {},
          "output_type": "execute_result"
        }
      ],
      "source": [
        "data = np.array([[1,2],[3,4],[5,6]])\n",
        "data"
      ]
    },
    {
      "cell_type": "markdown",
      "metadata": {
        "id": "Vahenv8hZosw"
      },
      "source": [
        "Vamos repetir as operações que aprendemos para descrever um array!"
      ]
    },
    {
      "cell_type": "code",
      "execution_count": null,
      "metadata": {
        "id": "88JHXA50Zosx"
      },
      "outputs": [],
      "source": []
    },
    {
      "cell_type": "markdown",
      "metadata": {
        "id": "sXUh5DdkZosx"
      },
      "source": [
        "Vamos aprender um função nova para mudar o formato da matriz"
      ]
    },
    {
      "cell_type": "markdown",
      "metadata": {
        "id": "mkVoXyDHZosx"
      },
      "source": [
        "[numpy.reshape](https://numpy.org/doc/stable/reference/generated/numpy.reshape.html)\n",
        "\n",
        "Em algumas situações, pode ser útil **reformatar** nosso conjunto de dados. Para isso, utilizamos a função *.reshape()*.\n",
        "\n",
        "**Atenção:** ao utilizar o reshape, o número de elementos total nunca pode ser alterado!\n",
        "\n",
        "<img src = \"https://numpy.org/devdocs/_images/np_reshape.png\" />"
      ]
    },
    {
      "cell_type": "code",
      "execution_count": null,
      "metadata": {
        "id": "5I8ZoQWeZosy"
      },
      "outputs": [],
      "source": []
    },
    {
      "cell_type": "markdown",
      "metadata": {
        "id": "4DAlW3ffZosy"
      },
      "source": [
        "#### Indexação de matrizes\n",
        "\n",
        "<img src = \"https://numpy.org/devdocs/_images/np_matrix_indexing.png\" />"
      ]
    },
    {
      "cell_type": "code",
      "execution_count": null,
      "metadata": {
        "id": "WdOG4QgzZosz"
      },
      "outputs": [],
      "source": []
    },
    {
      "cell_type": "markdown",
      "metadata": {
        "id": "WKApACZBZos0"
      },
      "source": [
        "#### Agregações"
      ]
    },
    {
      "cell_type": "code",
      "execution_count": null,
      "metadata": {
        "id": "XcKpV3PPZos0",
        "outputId": "4273c2a5-f176-4988-bc2c-72a872993dcc"
      },
      "outputs": [
        {
          "data": {
            "text/plain": [
              "array([[1, 2],\n",
              "       [5, 3],\n",
              "       [4, 6]])"
            ]
          },
          "execution_count": 22,
          "metadata": {},
          "output_type": "execute_result"
        }
      ],
      "source": [
        "data = np.array([[1,2],[5,3],[4,6]])\n",
        "data"
      ]
    },
    {
      "cell_type": "markdown",
      "metadata": {
        "id": "3eZT7mgeZos1"
      },
      "source": [
        "\n",
        "\n",
        "<img src = \"https://numpy.org/devdocs/_images/np_matrix_aggregation.png\" />"
      ]
    },
    {
      "cell_type": "code",
      "execution_count": null,
      "metadata": {
        "id": "q0irsMvEZos2"
      },
      "outputs": [],
      "source": []
    },
    {
      "cell_type": "markdown",
      "metadata": {
        "id": "63gVZpADZos2"
      },
      "source": [
        "Também podemos ter situações em que gostaríamos de **agregar por linhas e/ou colunas**, o que também é possível, especificando o parâmetro *axis*, conforme abaixo.\n",
        "\n",
        "<img src = \"https://numpy.org/devdocs/_images/np_matrix_aggregation_row.png\" />"
      ]
    },
    {
      "cell_type": "markdown",
      "metadata": {
        "id": "fk54bidiZos3"
      },
      "source": [
        "\"axis = 0\" opera na direção das colunas, avaliando entre linhas"
      ]
    },
    {
      "cell_type": "code",
      "execution_count": null,
      "metadata": {
        "id": "i5VfLWP4Zos8"
      },
      "outputs": [],
      "source": []
    },
    {
      "cell_type": "markdown",
      "metadata": {
        "id": "jSDdP3WDZos9"
      },
      "source": [
        "\"axis = 1\" opera na direação das linhas, avaliando entre colunas"
      ]
    },
    {
      "cell_type": "code",
      "execution_count": null,
      "metadata": {
        "id": "xqfesZXUZos-"
      },
      "outputs": [],
      "source": []
    },
    {
      "cell_type": "markdown",
      "metadata": {
        "id": "oaeRfTmbZos-"
      },
      "source": [
        "#### Operações com matrizes"
      ]
    },
    {
      "cell_type": "markdown",
      "metadata": {
        "id": "KrhF9q9-Zos_"
      },
      "source": [
        "Operações Elemetares (+, -, *, /)\n",
        "\n",
        "<img src=\"https://numpy.org/devdocs/_images/np_matrix_arithmetic.png\" />\n",
        "\n",
        "Diferentemente com arrays unidimensionais, conseguimos operar com matriz de tamanhos diferentes, **desde que sejam essencialmente um vetor-linha ou um vetor-coluna**.\n",
        "\n",
        "<img src = \"https://numpy.org/devdocs/_images/np_matrix_broadcasting.png\" />"
      ]
    },
    {
      "cell_type": "code",
      "execution_count": null,
      "metadata": {
        "id": "8Zp9P7xxZos_"
      },
      "outputs": [],
      "source": []
    },
    {
      "cell_type": "markdown",
      "metadata": {
        "id": "ENOo9KzXZotA"
      },
      "source": [
        "Multiplicação de Matrizes \"tradicional\"\n",
        "\n",
        "[numpy.dot](https://numpy.org/doc/stable/reference/generated/numpy.dot.html)"
      ]
    },
    {
      "cell_type": "code",
      "execution_count": null,
      "metadata": {
        "id": "DYfJBkyNZotB"
      },
      "outputs": [],
      "source": []
    },
    {
      "cell_type": "markdown",
      "metadata": {
        "id": "rMO_wSS4ZotB"
      },
      "source": [
        "Transposição de Matrizes\n",
        "\n",
        "Transpor a matriz equivale a \"trocar\" as linhas pelas colunas.\n",
        "\n",
        "[numpy.transpose](https://numpy.org/doc/stable/reference/generated/numpy.transpose.html)\n",
        "\n",
        "[numpy.ndarray.T](https://numpy.org/doc/stable/reference/generated/numpy.ndarray.T.html)\n",
        "\n",
        "<img src = \"https://numpy.org/devdocs/_images/np_transposing_reshaping.png\" />"
      ]
    },
    {
      "cell_type": "code",
      "execution_count": null,
      "metadata": {
        "id": "MLDjjVfgZotC"
      },
      "outputs": [],
      "source": []
    },
    {
      "cell_type": "markdown",
      "metadata": {
        "id": "7PmJPXq8ZotC"
      },
      "source": [
        "#### Filtrando Dados\n",
        "\n",
        "Seguimos a mesma lógica de filtros em arrays unidimensionais, com a particularidade de que estamos lidando, agora, com mais de uma dimensão - e podemos levar isso em consideração."
      ]
    },
    {
      "cell_type": "code",
      "execution_count": null,
      "metadata": {
        "id": "u3QVXk9-ZotD"
      },
      "outputs": [],
      "source": []
    }
  ],
  "metadata": {
    "colab": {
      "provenance": [],
      "include_colab_link": true
    },
    "kernelspec": {
      "display_name": "SUZANO-TECPROG1",
      "language": "python",
      "name": "python3"
    },
    "language_info": {
      "codemirror_mode": {
        "name": "ipython",
        "version": 3
      },
      "file_extension": ".py",
      "mimetype": "text/x-python",
      "name": "python",
      "nbconvert_exporter": "python",
      "pygments_lexer": "ipython3",
      "version": "3.10.6 | packaged by conda-forge | (main, Oct 24 2022, 16:02:16) [MSC v.1916 64 bit (AMD64)]"
    },
    "orig_nbformat": 4,
    "vscode": {
      "interpreter": {
        "hash": "38d4061a99e7c6638a090ce08c14a66640e6088dc5ef74a7f33c8fdd952ca81d"
      }
    }
  },
  "nbformat": 4,
  "nbformat_minor": 0
}